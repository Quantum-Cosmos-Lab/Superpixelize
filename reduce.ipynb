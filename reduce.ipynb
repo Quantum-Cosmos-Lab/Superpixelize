{
 "cells": [
  {
   "cell_type": "code",
   "execution_count": 1,
   "metadata": {},
   "outputs": [],
   "source": [
    "from superpixelize_tools import superpixelize_scene\n",
    "from cloud_classification_data import import_scene_ids, import_training_scene, SceneDataset\n",
    "\n",
    "from pathlib import Path\n",
    "import numpy as np\n",
    "import pandas as pd"
   ]
  },
  {
   "cell_type": "code",
   "execution_count": 3,
   "metadata": {},
   "outputs": [
    {
     "name": "stdout",
     "output_type": "stream",
     "text": [
      "LC08_L1TP_002053_20160520_20170324_01_T1\n",
      "LC08_L1TP_002054_20160520_20170324_01_T1\n",
      "LC08_L1TP_011002_20160620_20170323_01_T1\n",
      "LC08_L1TP_011247_20160620_20170323_01_T1\n",
      "LC08_L1TP_029040_20160720_20170222_01_T1\n",
      "LC08_L1TP_032029_20160420_20170223_01_T1\n",
      "LC08_L1TP_034034_20160520_20170223_01_T1\n",
      "LC08_L1TP_035034_20160120_20170224_01_T1\n",
      "LC08_L1TP_039034_20160320_20170224_01_T1\n",
      "LC08_L1TP_044010_20160220_20170224_01_T1\n",
      "LC08_L1TP_045026_20160720_20170221_01_T1\n",
      "LC08_L1TP_047023_20160920_20170221_01_T1\n",
      "LC08_L1TP_059014_20160620_20170221_01_T1\n",
      "LC08_L1TP_061017_20160720_20170223_01_T1\n",
      "LC08_L1TP_063016_20160920_20170221_01_T1\n",
      "LC08_L1TP_064014_20160420_20170223_01_T1\n",
      "LC08_L1TP_064017_20160420_20170223_01_T1\n",
      "LC08_L1TP_066017_20160520_20170223_01_T1\n"
     ]
    }
   ],
   "source": [
    "base_path = Path('../38-Cloud_training')\n",
    "scenes_id_path = base_path/'training_sceneids_38-Cloud.csv'\n",
    "scene_ids = import_scene_ids(scenes_id_path)\n",
    "\n",
    "reduced_scenes = np.empty((0,25))\n",
    "for scene in scene_ids:\n",
    "    print(scene)\n",
    "    scene_data = SceneDataset(base_path/'train_red',\n",
    "    base_path/'train_green',\n",
    "    base_path/'train_blue',\n",
    "    base_path/'train_nir',\n",
    "    base_path/'train_gt', scene)\n",
    "\n",
    "    reduced_scene = superpixelize_scene(scene_data)\n",
    "    reduced_scenes = np.vstack([reduced_scenes, reduced_scene])"
   ]
  },
  {
   "cell_type": "code",
   "execution_count": 4,
   "metadata": {},
   "outputs": [
    {
     "data": {
      "text/plain": [
       "(929515, 25)"
      ]
     },
     "execution_count": 4,
     "metadata": {},
     "output_type": "execute_result"
    }
   ],
   "source": [
    "reduced_scenes.shape"
   ]
  },
  {
   "cell_type": "code",
   "execution_count": 5,
   "metadata": {},
   "outputs": [],
   "source": [
    "feature_names = [\n",
    "'R_med', 'G_med', 'B_med', 'Nir_med',\n",
    "'R_avg', 'G_avg', 'B_avg', 'Nir_avg',\n",
    "'R_iqr', 'G_iqr', 'B_iqr', 'Nir_iqr',\n",
    "'R_max', 'G_max', 'B_max', 'Nir_max',\n",
    "'R_min', 'G_min', 'B_min', 'Nir_min',\n",
    "'R_std', 'G_std', 'B_std', 'Nir_std',\n",
    "'gt_avg'\n",
    "]"
   ]
  },
  {
   "cell_type": "code",
   "execution_count": 7,
   "metadata": {},
   "outputs": [],
   "source": [
    "pd.DataFrame(reduced_scenes, columns=feature_names).to_csv('sp_reduced.csv', index=False)"
   ]
  }
 ],
 "metadata": {
  "kernelspec": {
   "display_name": "quantum",
   "language": "python",
   "name": "python3"
  },
  "language_info": {
   "codemirror_mode": {
    "name": "ipython",
    "version": 3
   },
   "file_extension": ".py",
   "mimetype": "text/x-python",
   "name": "python",
   "nbconvert_exporter": "python",
   "pygments_lexer": "ipython3",
   "version": "3.10.8"
  },
  "orig_nbformat": 4,
  "vscode": {
   "interpreter": {
    "hash": "d8f4dd9a8150c7db870e9b968ad12732ff3cb84f2df7f35b4515c2f72f48714f"
   }
  }
 },
 "nbformat": 4,
 "nbformat_minor": 2
}
